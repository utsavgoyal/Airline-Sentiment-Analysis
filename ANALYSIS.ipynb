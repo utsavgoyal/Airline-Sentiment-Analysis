{
  "nbformat": 4,
  "nbformat_minor": 0,
  "metadata": {
    "colab": {
      "name": "ANALYSIS.ipynb",
      "provenance": [],
      "collapsed_sections": []
    },
    "kernelspec": {
      "display_name": "Python 3",
      "language": "python",
      "name": "python3"
    },
    "language_info": {
      "codemirror_mode": {
        "name": "ipython",
        "version": 3
      },
      "file_extension": ".py",
      "mimetype": "text/x-python",
      "name": "python",
      "nbconvert_exporter": "python",
      "pygments_lexer": "ipython3",
      "version": "3.7.6"
    },
    "accelerator": "GPU"
  },
  "cells": [
    {
      "cell_type": "markdown",
      "metadata": {
        "colab_type": "text",
        "id": "sCT7k1gwzquC"
      },
      "source": [
        "Import Libraries"
      ]
    },
    {
      "cell_type": "code",
      "metadata": {
        "colab_type": "code",
        "id": "qUgWE8bszcKp",
        "scrolled": true,
        "colab": {}
      },
      "source": [
        "import numpy as np\n",
        "import pandas as pd\n",
        "import spacy\n",
        "import tensorflow as tf\n",
        "from tensorflow import keras\n",
        "from keras.models import Sequential\n",
        "from keras.utils import np_utils"
      ],
      "execution_count": 4,
      "outputs": []
    },
    {
      "cell_type": "code",
      "metadata": {
        "colab_type": "code",
        "id": "FAxAoL-TzcKt",
        "colab": {
          "base_uri": "https://localhost:8080/",
          "height": 34
        },
        "outputId": "e7acbc96-5894-4031-e988-f144b3511aa5"
      },
      "source": [
        "print(tf.__version__)"
      ],
      "execution_count": 5,
      "outputs": [
        {
          "output_type": "stream",
          "text": [
            "2.2.0\n"
          ],
          "name": "stdout"
        }
      ]
    },
    {
      "cell_type": "markdown",
      "metadata": {
        "colab_type": "text",
        "id": "mWSAvS8bzyUM"
      },
      "source": [
        "Loading Features"
      ]
    },
    {
      "cell_type": "code",
      "metadata": {
        "colab_type": "code",
        "id": "33UF0CaWzcKw",
        "scrolled": false,
        "colab": {}
      },
      "source": [
        "from numpy import genfromtxt\n",
        "features = genfromtxt('features.csv', delimiter=',')\n",
        "encoded_labels = genfromtxt('classes.csv', delimiter=',')"
      ],
      "execution_count": 6,
      "outputs": []
    },
    {
      "cell_type": "code",
      "metadata": {
        "colab_type": "code",
        "id": "6CFAg2PEzcK0",
        "colab": {}
      },
      "source": [
        "encoded_labels = encoded_labels.astype('int64')"
      ],
      "execution_count": 7,
      "outputs": []
    },
    {
      "cell_type": "markdown",
      "metadata": {
        "colab_type": "text",
        "id": "e9iFkVltz3Eu"
      },
      "source": [
        "Splitting Our DATA"
      ]
    },
    {
      "cell_type": "code",
      "metadata": {
        "colab_type": "code",
        "id": "Mct3BGb6zcK2",
        "colab": {
          "base_uri": "https://localhost:8080/",
          "height": 84
        },
        "outputId": "503f1855-ca31-48a6-8f35-080120ac596c"
      },
      "source": [
        "split_frac = 0.8\n",
        "\n",
        "## split data into training, validation, and test data (features and labels, x and y)\n",
        "\n",
        "split_idx = int(len(features)*split_frac)\n",
        "train_x, remaining_x = features[:split_idx], features[split_idx:]\n",
        "train_y, remaining_y = encoded_labels[:split_idx], encoded_labels[split_idx:]\n",
        "\n",
        "test_idx = int(len(remaining_x)*0.5)\n",
        "val_x, test_x = remaining_x[:test_idx], remaining_x[test_idx:]\n",
        "val_y, test_y = remaining_y[:test_idx], remaining_y[test_idx:]\n",
        "\n",
        "## print out the shapes of your resultant feature data\n",
        "print(\"\\t\\t\\tFeature Shapes:\")\n",
        "print(\"Train set: \\t\\t{}\".format(train_x.shape), \"Train y: \\t\\t{}\".format(train_y.shape),\n",
        "      \"\\nValidation set: \\t{}\".format(val_x.shape),\"valid y: \\t\\t{}\".format(val_y.shape),\n",
        "      \"\\nTest set: \\t\\t{}\".format(test_x.shape),\"Test y: \\t\\t{}\".format(test_y.shape)) "
      ],
      "execution_count": 8,
      "outputs": [
        {
          "output_type": "stream",
          "text": [
            "\t\t\tFeature Shapes:\n",
            "Train set: \t\t(11656, 15) Train y: \t\t(11656, 3) \n",
            "Validation set: \t(1457, 15) valid y: \t\t(1457, 3) \n",
            "Test set: \t\t(1457, 15) Test y: \t\t(1457, 3)\n"
          ],
          "name": "stdout"
        }
      ]
    },
    {
      "cell_type": "markdown",
      "metadata": {
        "colab_type": "text",
        "id": "zm-dObxFz85n"
      },
      "source": [
        "Importing Layers from Keras"
      ]
    },
    {
      "cell_type": "code",
      "metadata": {
        "colab_type": "code",
        "id": "SlNBLFQxzcK4",
        "colab": {}
      },
      "source": [
        "from __future__ import print_function\n",
        "\n",
        "from keras.preprocessing import sequence\n",
        "from keras.layers import Dense, Embedding\n",
        "from keras.layers import LSTM\n",
        "from keras.layers import Dropout\n",
        "from keras.layers import SpatialDropout1D\n",
        "from keras.layers import BatchNormalization\n",
        "from keras.callbacks import ModelCheckpoint\n",
        "from keras.optimizers import Adam"
      ],
      "execution_count": 9,
      "outputs": []
    },
    {
      "cell_type": "code",
      "metadata": {
        "colab_type": "code",
        "id": "4LvnU_6_zcK6",
        "colab": {}
      },
      "source": [
        "no_of_words = 9481"
      ],
      "execution_count": 10,
      "outputs": []
    },
    {
      "cell_type": "markdown",
      "metadata": {
        "colab_type": "text",
        "id": "xxVNeC1T2u0k"
      },
      "source": [
        "**MODEL 1:**\n"
      ]
    },
    {
      "cell_type": "code",
      "metadata": {
        "colab_type": "code",
        "id": "dCsW7WW8zcK_",
        "colab": {
          "base_uri": "https://localhost:8080/",
          "height": 487
        },
        "outputId": "ee21959c-be4a-4cec-fc87-9eaea9880c89"
      },
      "source": [
        "model1 = Sequential()\n",
        "model1.add(Embedding(no_of_words, 100,input_length=15))\n",
        "#model1.add(SpatialDropout1D(0.2))\n",
        "model1.add(LSTM(128))\n",
        "model1.add(Dropout(0.5))\n",
        "model1.add(BatchNormalization())\n",
        "model1.add(Dropout(0.5))\n",
        "model1.add(Dense(256, activation='relu'))\n",
        "model1.add(Dropout(0.5))\n",
        "model1.add(BatchNormalization())\n",
        "model1.add(Dropout(0.5))\n",
        "model1.add(Dense(3, activation='softmax'))\n",
        "model1.compile(loss='categorical_crossentropy',\n",
        "              optimizer='adam',\n",
        "              metrics=['accuracy'])\n",
        "filepath = \"model.best.hdf5\"\n",
        "checkpoint = ModelCheckpoint(filepath, monitor='val_accuracy', verbose=1, save_best_only=True)\n",
        "callbacks_list = [checkpoint]\n",
        "\n",
        "model1.summary()"
      ],
      "execution_count": 11,
      "outputs": [
        {
          "output_type": "stream",
          "text": [
            "Model: \"sequential_1\"\n",
            "_________________________________________________________________\n",
            "Layer (type)                 Output Shape              Param #   \n",
            "=================================================================\n",
            "embedding_1 (Embedding)      (None, 15, 100)           948100    \n",
            "_________________________________________________________________\n",
            "lstm_1 (LSTM)                (None, 128)               117248    \n",
            "_________________________________________________________________\n",
            "dropout_1 (Dropout)          (None, 128)               0         \n",
            "_________________________________________________________________\n",
            "batch_normalization_1 (Batch (None, 128)               512       \n",
            "_________________________________________________________________\n",
            "dropout_2 (Dropout)          (None, 128)               0         \n",
            "_________________________________________________________________\n",
            "dense_1 (Dense)              (None, 256)               33024     \n",
            "_________________________________________________________________\n",
            "dropout_3 (Dropout)          (None, 256)               0         \n",
            "_________________________________________________________________\n",
            "batch_normalization_2 (Batch (None, 256)               1024      \n",
            "_________________________________________________________________\n",
            "dropout_4 (Dropout)          (None, 256)               0         \n",
            "_________________________________________________________________\n",
            "dense_2 (Dense)              (None, 3)                 771       \n",
            "=================================================================\n",
            "Total params: 1,100,679\n",
            "Trainable params: 1,099,911\n",
            "Non-trainable params: 768\n",
            "_________________________________________________________________\n"
          ],
          "name": "stdout"
        }
      ]
    },
    {
      "cell_type": "markdown",
      "metadata": {
        "colab_type": "text",
        "id": "AqyHuwer201I"
      },
      "source": [
        "**MODEL 1: TRAIN**"
      ]
    },
    {
      "cell_type": "code",
      "metadata": {
        "colab_type": "code",
        "id": "j0vR5CThzcLD",
        "scrolled": true,
        "colab": {
          "base_uri": "https://localhost:8080/",
          "height": 457
        },
        "outputId": "abb575c1-1959-4325-8875-6d97fc5bdc01"
      },
      "source": [
        "batch_size=20\n",
        "print('Train...')\n",
        "model1.fit(train_x, train_y,\n",
        "          batch_size=batch_size,\n",
        "          epochs=10,\n",
        "          validation_data=(val_x, val_y),verbose=1)\n"
      ],
      "execution_count": 12,
      "outputs": [
        {
          "output_type": "stream",
          "text": [
            "Train...\n"
          ],
          "name": "stdout"
        },
        {
          "output_type": "stream",
          "text": [
            "/usr/local/lib/python3.6/dist-packages/tensorflow/python/framework/indexed_slices.py:434: UserWarning: Converting sparse IndexedSlices to a dense Tensor of unknown shape. This may consume a large amount of memory.\n",
            "  \"Converting sparse IndexedSlices to a dense Tensor of unknown shape. \"\n"
          ],
          "name": "stderr"
        },
        {
          "output_type": "stream",
          "text": [
            "Train on 11656 samples, validate on 1457 samples\n",
            "Epoch 1/10\n",
            "11656/11656 [==============================] - 34s 3ms/step - loss: 1.1181 - accuracy: 0.5728 - val_loss: 0.6637 - val_accuracy: 0.7097\n",
            "Epoch 2/10\n",
            "11656/11656 [==============================] - 31s 3ms/step - loss: 0.6435 - accuracy: 0.7332 - val_loss: 0.6016 - val_accuracy: 0.7536\n",
            "Epoch 3/10\n",
            "11656/11656 [==============================] - 31s 3ms/step - loss: 0.5049 - accuracy: 0.7994 - val_loss: 0.6060 - val_accuracy: 0.7639\n",
            "Epoch 4/10\n",
            "11656/11656 [==============================] - 32s 3ms/step - loss: 0.4304 - accuracy: 0.8345 - val_loss: 0.6534 - val_accuracy: 0.7502\n",
            "Epoch 5/10\n",
            "11656/11656 [==============================] - 32s 3ms/step - loss: 0.3883 - accuracy: 0.8527 - val_loss: 0.6262 - val_accuracy: 0.7591\n",
            "Epoch 6/10\n",
            "11656/11656 [==============================] - 31s 3ms/step - loss: 0.3549 - accuracy: 0.8675 - val_loss: 0.6391 - val_accuracy: 0.7502\n",
            "Epoch 7/10\n",
            "11656/11656 [==============================] - 32s 3ms/step - loss: 0.3217 - accuracy: 0.8859 - val_loss: 0.6992 - val_accuracy: 0.7488\n",
            "Epoch 8/10\n",
            "11656/11656 [==============================] - 31s 3ms/step - loss: 0.2962 - accuracy: 0.8957 - val_loss: 0.7199 - val_accuracy: 0.7495\n",
            "Epoch 9/10\n",
            "11656/11656 [==============================] - 32s 3ms/step - loss: 0.2732 - accuracy: 0.9051 - val_loss: 0.7183 - val_accuracy: 0.7426\n",
            "Epoch 10/10\n",
            "11656/11656 [==============================] - 32s 3ms/step - loss: 0.2618 - accuracy: 0.9067 - val_loss: 0.7819 - val_accuracy: 0.7303\n"
          ],
          "name": "stdout"
        },
        {
          "output_type": "execute_result",
          "data": {
            "text/plain": [
              "<keras.callbacks.callbacks.History at 0x7f408074beb8>"
            ]
          },
          "metadata": {
            "tags": []
          },
          "execution_count": 12
        }
      ]
    },
    {
      "cell_type": "markdown",
      "metadata": {
        "colab_type": "text",
        "id": "BFddUVKk24Z7"
      },
      "source": [
        "**MODEL 1 : EVALUATE**"
      ]
    },
    {
      "cell_type": "code",
      "metadata": {
        "colab_type": "code",
        "id": "w_zyfDzLzcLE",
        "colab": {
          "base_uri": "https://localhost:8080/",
          "height": 50
        },
        "outputId": "55e351ea-3de8-432d-88e4-83ff5e7c5277"
      },
      "source": [
        "\n",
        "score, acc = model1.evaluate(test_x, test_y,\n",
        "                            batch_size=batch_size)\n",
        "print(score,acc)"
      ],
      "execution_count": 13,
      "outputs": [
        {
          "output_type": "stream",
          "text": [
            "1457/1457 [==============================] - 1s 347us/step\n",
            "0.8551346178568628 0.7268359661102295\n"
          ],
          "name": "stdout"
        }
      ]
    }
  ]
}