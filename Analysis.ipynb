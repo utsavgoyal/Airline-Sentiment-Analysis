{
  "nbformat": 4,
  "nbformat_minor": 0,
  "metadata": {
    "colab": {
      "name": "ANALYSIS.ipynb",
      "provenance": [],
      "collapsed_sections": []
    },
    "kernelspec": {
      "display_name": "Python 3",
      "language": "python",
      "name": "python3"
    },
    "language_info": {
      "codemirror_mode": {
        "name": "ipython",
        "version": 3
      },
      "file_extension": ".py",
      "mimetype": "text/x-python",
      "name": "python",
      "nbconvert_exporter": "python",
      "pygments_lexer": "ipython3",
      "version": "3.7.6"
    },
    "accelerator": "GPU"
  },
  "cells": [
    {
      "cell_type": "markdown",
      "metadata": {
        "colab_type": "text",
        "id": "sCT7k1gwzquC"
      },
      "source": [
        "Import Libraries"
      ]
    },
    {
      "cell_type": "code",
      "metadata": {
        "colab_type": "code",
        "id": "qUgWE8bszcKp",
        "scrolled": true,
        "colab": {}
      },
      "source": [
        "import numpy as np\n",
        "import pandas as pd\n",
        "import spacy\n",
        "import tensorflow as tf\n",
        "from tensorflow import keras\n",
        "from keras.models import Sequential\n",
        "from keras.utils import np_utils"
      ],
      "execution_count": 72,
      "outputs": []
    },
    {
      "cell_type": "code",
      "metadata": {
        "colab_type": "code",
        "id": "FAxAoL-TzcKt",
        "colab": {
          "base_uri": "https://localhost:8080/",
          "height": 34
        },
        "outputId": "31b5fbc3-0687-4cbe-ac5f-98b5d0fe97e2"
      },
      "source": [
        "print(tf.__version__)"
      ],
      "execution_count": 73,
      "outputs": [
        {
          "output_type": "stream",
          "text": [
            "2.2.0\n"
          ],
          "name": "stdout"
        }
      ]
    },
    {
      "cell_type": "markdown",
      "metadata": {
        "colab_type": "text",
        "id": "mWSAvS8bzyUM"
      },
      "source": [
        "Loading Features"
      ]
    },
    {
      "cell_type": "code",
      "metadata": {
        "colab_type": "code",
        "id": "33UF0CaWzcKw",
        "scrolled": false,
        "colab": {}
      },
      "source": [
        "from numpy import genfromtxt\n",
        "features = genfromtxt('features.csv', delimiter=',')\n",
        "encoded_labels = genfromtxt('classes.csv', delimiter=',')"
      ],
      "execution_count": 74,
      "outputs": []
    },
    {
      "cell_type": "code",
      "metadata": {
        "colab_type": "code",
        "id": "goYGLwz_zcKy",
        "colab": {
          "base_uri": "https://localhost:8080/",
          "height": 235
        },
        "outputId": "2e0105fe-34f5-4bb7-b7e2-c169583d62a5"
      },
      "source": [
        "features"
      ],
      "execution_count": 75,
      "outputs": [
        {
          "output_type": "execute_result",
          "data": {
            "text/plain": [
              "array([[0.000e+00, 0.000e+00, 0.000e+00, ..., 1.800e+01, 4.547e+03,\n",
              "        4.548e+03],\n",
              "       [0.000e+00, 0.000e+00, 0.000e+00, ..., 8.200e+01, 5.000e+00,\n",
              "        8.000e+01],\n",
              "       [0.000e+00, 0.000e+00, 0.000e+00, ..., 5.300e+01, 3.590e+02,\n",
              "        6.800e+02],\n",
              "       ...,\n",
              "       [0.000e+00, 0.000e+00, 1.000e+00, ..., 4.630e+02, 5.970e+02,\n",
              "        9.481e+03],\n",
              "       [0.000e+00, 0.000e+00, 0.000e+00, ..., 1.000e+00, 1.310e+02,\n",
              "        5.760e+02],\n",
              "       [0.000e+00, 0.000e+00, 0.000e+00, ..., 4.180e+02, 3.660e+02,\n",
              "        1.000e+00]])"
            ]
          },
          "metadata": {
            "tags": []
          },
          "execution_count": 75
        }
      ]
    },
    {
      "cell_type": "code",
      "metadata": {
        "colab_type": "code",
        "id": "6CFAg2PEzcK0",
        "colab": {
          "base_uri": "https://localhost:8080/",
          "height": 134
        },
        "outputId": "24b0c6fe-3549-4ef0-8834-855c8e4dea96"
      },
      "source": [
        "encoded_labels.astype('int64')"
      ],
      "execution_count": 76,
      "outputs": [
        {
          "output_type": "execute_result",
          "data": {
            "text/plain": [
              "array([[0, 1, 0],\n",
              "       [1, 0, 0],\n",
              "       [1, 0, 0],\n",
              "       ...,\n",
              "       [0, 0, 1],\n",
              "       [0, 0, 1],\n",
              "       [1, 0, 0]])"
            ]
          },
          "metadata": {
            "tags": []
          },
          "execution_count": 76
        }
      ]
    },
    {
      "cell_type": "markdown",
      "metadata": {
        "colab_type": "text",
        "id": "e9iFkVltz3Eu"
      },
      "source": [
        "Splitting Our DATA"
      ]
    },
    {
      "cell_type": "code",
      "metadata": {
        "colab_type": "code",
        "id": "Mct3BGb6zcK2",
        "colab": {
          "base_uri": "https://localhost:8080/",
          "height": 84
        },
        "outputId": "fb48181b-7935-4d5a-f074-b060b220bc12"
      },
      "source": [
        "split_frac = 0.8\n",
        "\n",
        "## split data into training, validation, and test data (features and labels, x and y)\n",
        "\n",
        "split_idx = int(len(features)*split_frac)\n",
        "train_x, remaining_x = features[:split_idx], features[split_idx:]\n",
        "train_y, remaining_y = encoded_labels[:split_idx], encoded_labels[split_idx:]\n",
        "\n",
        "test_idx = int(len(remaining_x)*0.5)\n",
        "val_x, test_x = remaining_x[:test_idx], remaining_x[test_idx:]\n",
        "val_y, test_y = remaining_y[:test_idx], remaining_y[test_idx:]\n",
        "\n",
        "## print out the shapes of your resultant feature data\n",
        "print(\"\\t\\t\\tFeature Shapes:\")\n",
        "print(\"Train set: \\t\\t{}\".format(train_x.shape), \"Train y: \\t\\t{}\".format(train_y.shape),\n",
        "      \"\\nValidation set: \\t{}\".format(val_x.shape),\"valid y: \\t\\t{}\".format(val_y.shape),\n",
        "      \"\\nTest set: \\t\\t{}\".format(test_x.shape),\"Test y: \\t\\t{}\".format(test_y.shape)) "
      ],
      "execution_count": 77,
      "outputs": [
        {
          "output_type": "stream",
          "text": [
            "\t\t\tFeature Shapes:\n",
            "Train set: \t\t(11656, 15) Train y: \t\t(11656, 3) \n",
            "Validation set: \t(1457, 15) valid y: \t\t(1457, 3) \n",
            "Test set: \t\t(1457, 15) Test y: \t\t(1457, 3)\n"
          ],
          "name": "stdout"
        }
      ]
    },
    {
      "cell_type": "markdown",
      "metadata": {
        "colab_type": "text",
        "id": "zm-dObxFz85n"
      },
      "source": [
        "Importing Layers from Keras"
      ]
    },
    {
      "cell_type": "code",
      "metadata": {
        "colab_type": "code",
        "id": "SlNBLFQxzcK4",
        "colab": {}
      },
      "source": [
        "from __future__ import print_function\n",
        "\n",
        "from keras.preprocessing import sequence\n",
        "from keras.layers import Dense, Embedding\n",
        "from keras.layers import LSTM\n",
        "from keras.layers import Dropout\n",
        "from keras.layers import SpatialDropout1D\n",
        "from keras.layers import BatchNormalization\n",
        "from keras.callbacks import ModelCheckpoint\n",
        "from keras.optimizers import Adam"
      ],
      "execution_count": 80,
      "outputs": []
    },
    {
      "cell_type": "code",
      "metadata": {
        "colab_type": "code",
        "id": "4LvnU_6_zcK6",
        "colab": {}
      },
      "source": [
        "no_of_words = 9481"
      ],
      "execution_count": 81,
      "outputs": []
    },
    {
      "cell_type": "markdown",
      "metadata": {
        "colab_type": "text",
        "id": "xxVNeC1T2u0k"
      },
      "source": [
        "**MODEL 1:**\n"
      ]
    },
    {
      "cell_type": "code",
      "metadata": {
        "colab_type": "code",
        "id": "dCsW7WW8zcK_",
        "colab": {
          "base_uri": "https://localhost:8080/",
          "height": 487
        },
        "outputId": "270c370b-b537-497f-b8d9-852d76d2bdb3"
      },
      "source": [
        "model1 = Sequential()\n",
        "model1.add(Embedding(no_of_words, 100,input_length=15))\n",
        "#model1.add(SpatialDropout1D(0.2))\n",
        "model1.add(LSTM(128))\n",
        "model1.add(Dropout(0.5))\n",
        "model1.add(BatchNormalization())\n",
        "model1.add(Dropout(0.5))\n",
        "model1.add(Dense(256, activation='relu'))\n",
        "model1.add(Dropout(0.5))\n",
        "model1.add(BatchNormalization())\n",
        "model1.add(Dropout(0.5))\n",
        "model1.add(Dense(3, activation='softmax'))\n",
        "model1.compile(loss='categorical_crossentropy',\n",
        "              optimizer='adam',\n",
        "              metrics=['accuracy'])\n",
        "filepath = \"model.best.hdf5\"\n",
        "checkpoint = ModelCheckpoint(filepath, monitor='val_accuracy', verbose=1, save_best_only=True)\n",
        "callbacks_list = [checkpoint]\n",
        "\n",
        "model1.summary()"
      ],
      "execution_count": 82,
      "outputs": [
        {
          "output_type": "stream",
          "text": [
            "Model: \"sequential_6\"\n",
            "_________________________________________________________________\n",
            "Layer (type)                 Output Shape              Param #   \n",
            "=================================================================\n",
            "embedding_6 (Embedding)      (None, 15, 100)           948100    \n",
            "_________________________________________________________________\n",
            "lstm_6 (LSTM)                (None, 128)               117248    \n",
            "_________________________________________________________________\n",
            "dropout_21 (Dropout)         (None, 128)               0         \n",
            "_________________________________________________________________\n",
            "batch_normalization_11 (Batc (None, 128)               512       \n",
            "_________________________________________________________________\n",
            "dropout_22 (Dropout)         (None, 128)               0         \n",
            "_________________________________________________________________\n",
            "dense_11 (Dense)             (None, 256)               33024     \n",
            "_________________________________________________________________\n",
            "dropout_23 (Dropout)         (None, 256)               0         \n",
            "_________________________________________________________________\n",
            "batch_normalization_12 (Batc (None, 256)               1024      \n",
            "_________________________________________________________________\n",
            "dropout_24 (Dropout)         (None, 256)               0         \n",
            "_________________________________________________________________\n",
            "dense_12 (Dense)             (None, 3)                 771       \n",
            "=================================================================\n",
            "Total params: 1,100,679\n",
            "Trainable params: 1,099,911\n",
            "Non-trainable params: 768\n",
            "_________________________________________________________________\n"
          ],
          "name": "stdout"
        }
      ]
    },
    {
      "cell_type": "markdown",
      "metadata": {
        "id": "zmYpDPGP6VAz",
        "colab_type": "text"
      },
      "source": [
        "CHECKPOINT"
      ]
    },
    {
      "cell_type": "code",
      "metadata": {
        "id": "b9A6sX2XzWoh",
        "colab_type": "code",
        "colab": {
          "base_uri": "https://localhost:8080/",
          "height": 34
        },
        "outputId": "ac9eab44-5047-4b98-c1e3-98d3991542df"
      },
      "source": [
        "\n",
        "checkpoint = ModelCheckpoint('model.h5', verbose=1, monitor='val_loss',save_best_only=True, mode='auto')  "
      ],
      "execution_count": 85,
      "outputs": [
        {
          "output_type": "stream",
          "text": [
            "WARNING:tensorflow:`epsilon` argument is deprecated and will be removed, use `min_delta` instead.\n"
          ],
          "name": "stdout"
        }
      ]
    },
    {
      "cell_type": "markdown",
      "metadata": {
        "colab_type": "text",
        "id": "AqyHuwer201I"
      },
      "source": [
        "**MODEL 1: TRAIN**"
      ]
    },
    {
      "cell_type": "code",
      "metadata": {
        "colab_type": "code",
        "id": "j0vR5CThzcLD",
        "scrolled": true,
        "colab": {
          "base_uri": "https://localhost:8080/",
          "height": 1000
        },
        "outputId": "b29a29af-4c33-4b11-d89b-5afeccb92b73"
      },
      "source": [
        "batch_size=40\n",
        "print('Train...')\n",
        "model1.fit(train_x, train_y,\n",
        "          batch_size=batch_size,\n",
        "          epochs=15,\n",
        "          validation_data=(val_x, val_y),verbose=1,callbacks=[checkpoint])\n"
      ],
      "execution_count": 86,
      "outputs": [
        {
          "output_type": "stream",
          "text": [
            "Train...\n",
            "Train on 11656 samples, validate on 1457 samples\n",
            "Epoch 1/15\n",
            "11656/11656 [==============================] - 10s 856us/step - loss: 0.6704 - accuracy: 0.7195 - val_loss: 0.6685 - val_accuracy: 0.6966\n",
            "\n",
            "Epoch 00001: val_loss improved from inf to 0.66845, saving model to model.h5\n",
            "Epoch 2/15\n",
            "11656/11656 [==============================] - 10s 844us/step - loss: 0.4965 - accuracy: 0.8074 - val_loss: 0.6155 - val_accuracy: 0.7612\n",
            "\n",
            "Epoch 00002: val_loss improved from 0.66845 to 0.61551, saving model to model.h5\n",
            "Epoch 3/15\n",
            "11656/11656 [==============================] - 10s 845us/step - loss: 0.4250 - accuracy: 0.8354 - val_loss: 0.6271 - val_accuracy: 0.7653\n",
            "\n",
            "Epoch 00003: val_loss did not improve from 0.61551\n",
            "Epoch 4/15\n",
            "11656/11656 [==============================] - 10s 851us/step - loss: 0.3649 - accuracy: 0.8602 - val_loss: 0.6506 - val_accuracy: 0.7550\n",
            "\n",
            "Epoch 00004: val_loss did not improve from 0.61551\n",
            "Epoch 5/15\n",
            "11656/11656 [==============================] - 10s 840us/step - loss: 0.3229 - accuracy: 0.8815 - val_loss: 0.6957 - val_accuracy: 0.7543\n",
            "\n",
            "Epoch 00005: val_loss did not improve from 0.61551\n",
            "Epoch 6/15\n",
            "11656/11656 [==============================] - 10s 844us/step - loss: 0.2883 - accuracy: 0.8939 - val_loss: 0.7313 - val_accuracy: 0.7639\n",
            "\n",
            "Epoch 00006: val_loss did not improve from 0.61551\n",
            "Epoch 7/15\n",
            "11656/11656 [==============================] - 10s 852us/step - loss: 0.2717 - accuracy: 0.8999 - val_loss: 0.7856 - val_accuracy: 0.7577\n",
            "\n",
            "Epoch 00007: val_loss did not improve from 0.61551\n",
            "Epoch 8/15\n",
            "11656/11656 [==============================] - 10s 849us/step - loss: 0.2556 - accuracy: 0.9059 - val_loss: 0.8499 - val_accuracy: 0.7447\n",
            "\n",
            "Epoch 00008: val_loss did not improve from 0.61551\n",
            "Epoch 9/15\n",
            "11656/11656 [==============================] - 10s 867us/step - loss: 0.2332 - accuracy: 0.9142 - val_loss: 0.8179 - val_accuracy: 0.7440\n",
            "\n",
            "Epoch 00009: val_loss did not improve from 0.61551\n",
            "Epoch 10/15\n",
            "11656/11656 [==============================] - 10s 867us/step - loss: 0.2176 - accuracy: 0.9222 - val_loss: 0.8881 - val_accuracy: 0.7529\n",
            "\n",
            "Epoch 00010: val_loss did not improve from 0.61551\n",
            "Epoch 11/15\n",
            "11656/11656 [==============================] - 10s 860us/step - loss: 0.2112 - accuracy: 0.9227 - val_loss: 0.8916 - val_accuracy: 0.7529\n",
            "\n",
            "Epoch 00011: val_loss did not improve from 0.61551\n",
            "Epoch 12/15\n",
            "11656/11656 [==============================] - 10s 859us/step - loss: 0.1972 - accuracy: 0.9286 - val_loss: 0.9448 - val_accuracy: 0.7618\n",
            "\n",
            "Epoch 00012: val_loss did not improve from 0.61551\n",
            "Epoch 13/15\n",
            "11656/11656 [==============================] - 10s 862us/step - loss: 0.1766 - accuracy: 0.9364 - val_loss: 0.9733 - val_accuracy: 0.7502\n",
            "\n",
            "Epoch 00013: val_loss did not improve from 0.61551\n",
            "Epoch 14/15\n",
            "11656/11656 [==============================] - 10s 852us/step - loss: 0.1692 - accuracy: 0.9410 - val_loss: 1.1121 - val_accuracy: 0.7570\n",
            "\n",
            "Epoch 00014: val_loss did not improve from 0.61551\n",
            "Epoch 15/15\n",
            "11656/11656 [==============================] - 10s 854us/step - loss: 0.1670 - accuracy: 0.9399 - val_loss: 1.0277 - val_accuracy: 0.7447\n",
            "\n",
            "Epoch 00015: val_loss did not improve from 0.61551\n"
          ],
          "name": "stdout"
        },
        {
          "output_type": "execute_result",
          "data": {
            "text/plain": [
              "<keras.callbacks.callbacks.History at 0x7fd95a7acdd8>"
            ]
          },
          "metadata": {
            "tags": []
          },
          "execution_count": 86
        }
      ]
    },
    {
      "cell_type": "markdown",
      "metadata": {
        "colab_type": "text",
        "id": "BFddUVKk24Z7"
      },
      "source": [
        "**MODEL 1 : EVALUATE**"
      ]
    },
    {
      "cell_type": "code",
      "metadata": {
        "colab_type": "code",
        "id": "w_zyfDzLzcLE",
        "colab": {
          "base_uri": "https://localhost:8080/",
          "height": 50
        },
        "outputId": "e3743677-807a-460e-8463-aeb31e8bae57"
      },
      "source": [
        "\n",
        "score, acc = model1.evaluate(test_x, test_y,\n",
        "                            batch_size=batch_size)\n",
        "print(score,acc)"
      ],
      "execution_count": 87,
      "outputs": [
        {
          "output_type": "stream",
          "text": [
            "1457/1457 [==============================] - 0s 123us/step\n",
            "1.0359639361776878 0.7261496186256409\n"
          ],
          "name": "stdout"
        }
      ]
    }
  ]
}